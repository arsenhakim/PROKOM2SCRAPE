{
 "cells": [
  {
   "cell_type": "code",
   "execution_count": 1,
   "id": "0f9e6d77",
   "metadata": {},
   "outputs": [],
   "source": [
    "import requests\n",
    "import pandas as pd\n",
    "from bs4 import BeautifulSoup\n",
    "import chromedriver_autoinstaller\n",
    "from selenium import webdriver"
   ]
  },
  {
   "cell_type": "code",
   "execution_count": 2,
   "id": "426b1af6",
   "metadata": {},
   "outputs": [],
   "source": [
    "chromedriver_autoinstaller.install()\n",
    "browser = webdriver.Chrome()"
   ]
  },
  {
   "cell_type": "code",
   "execution_count": 3,
   "id": "db13aa73",
   "metadata": {},
   "outputs": [],
   "source": [
    "browser.get('https://shopee.co.id/shop/331370112/recommendation-landing?pageNumber=1&upstream=')\n",
    "soup = BeautifulSoup(browser.page_source, 'lxml')"
   ]
  },
  {
   "cell_type": "code",
   "execution_count": 4,
   "id": "ff903f98",
   "metadata": {},
   "outputs": [],
   "source": [
    "productappl = soup.find_all(\"div\", class_=\"_89o+uF mC2b-a d-wZla\")"
   ]
  },
  {
   "cell_type": "code",
   "execution_count": 5,
   "id": "43be5a69",
   "metadata": {},
   "outputs": [],
   "source": [
    "priceappl = soup.find_all('div', class_='_1cMhqd tdQs-h')"
   ]
  },
  {
   "cell_type": "code",
   "execution_count": 6,
   "id": "c1208e15",
   "metadata": {},
   "outputs": [],
   "source": [
    "prosldappl = soup.find_all('div', class_='r4l-mr R9rrSp')"
   ]
  },
  {
   "cell_type": "code",
   "execution_count": 8,
   "id": "aab3566e",
   "metadata": {},
   "outputs": [],
   "source": [
    "base_url = 'https://shopee.co.id/shop/331370112/recommendation-landing?pageNumber={}&upstream='\n",
    "url_2 = \"https://shopee.co.id/appleflagship?page={}&sortBy=pop\"\n",
    "product_applshopee = []\n",
    "price_applshopee = []\n",
    "prosld_applshopee = []\n",
    "\n",
    "\n",
    "for page in range(1,4):\n",
    "    url1 = base_url.format(page)\n",
    "    browser.get(url1)\n",
    "    for prodc in productappl:\n",
    "        product_applshopee.append(prodc.text)\n",
    "    for priceshp in priceappl:\n",
    "        price_applshopee.append(priceshp.text)\n",
    "    for prodcsld in prosldappl:\n",
    "        prosld_applshopee.append(prodcsld.text)\n"
   ]
  },
  {
   "cell_type": "code",
   "execution_count": 9,
   "id": "e4eb3194",
   "metadata": {},
   "outputs": [],
   "source": [
    "browser2 = webdriver.Chrome()\n",
    "browser2.get(\"https://shopee.co.id/appleflagship?page=0&sortBy=pop\")\n",
    "soup2 = BeautifulSoup(browser2.page_source,'lxml')"
   ]
  },
  {
   "cell_type": "code",
   "execution_count": 10,
   "id": "c0ec40c5",
   "metadata": {},
   "outputs": [],
   "source": [
    "popprodc = soup2.find_all('div',class_=\"DmFCAE\")"
   ]
  },
  {
   "cell_type": "code",
   "execution_count": 11,
   "id": "1b4cdd68",
   "metadata": {},
   "outputs": [],
   "source": [
    "popprice = soup2.find_all('div',class_=\"_1cMhqd tdQs-h\")"
   ]
  },
  {
   "cell_type": "code",
   "execution_count": 12,
   "id": "af980f8f",
   "metadata": {},
   "outputs": [],
   "source": [
    "popsld = soup2.find_all('div',class_=\"r4l-mr R9rrSp\")"
   ]
  },
  {
   "cell_type": "code",
   "execution_count": 13,
   "id": "b8117a7a",
   "metadata": {},
   "outputs": [],
   "source": [
    "poppularprodc_inapplflgship = []\n",
    "poppularprodcpr_inapplflgship = []\n",
    "poppularprodcsld_inapplflgship = []\n",
    "for page2 in range(1,7):\n",
    "    url2 = url_2.format(page2)\n",
    "    browser.get(url2)\n",
    "    for poppro in popprodc:\n",
    "        poppularprodc_inapplflgship.append(poppro.text)\n",
    "    for poppri in popprice:\n",
    "        poppularprodcpr_inapplflgship.append(poppri.text)\n",
    "    for popusld in popsld:\n",
    "        poppularprodcsld_inapplflgship.append(popusld.text)\n",
    "    \n",
    "        \n",
    "        \n",
    "    "
   ]
  },
  {
   "cell_type": "code",
   "execution_count": 18,
   "id": "62a39c28",
   "metadata": {},
   "outputs": [],
   "source": [
    "\n",
    "\n",
    "datarecommendation = {\n",
    "    \"Nama Produk di toko \": product_applshopee,\n",
    "    \"Harga Produk di toko\": price_applshopee,\n",
    "}\n",
    "allproductappleflagship = {\n",
    "    \"Nama Produk di toko apple flagship (shopee)\":poppularprodc_inapplflgship,\n",
    "    \"Harga Produk\":poppularprodcpr_inapplflgship\n",
    "    \n",
    "}"
   ]
  },
  {
   "cell_type": "code",
   "execution_count": 19,
   "id": "7f34b681",
   "metadata": {},
   "outputs": [],
   "source": [
    "df1 = pd.DataFrame(allproductappleflagship)\n",
    "df2 = pd.DataFrame(datarecommendation)"
   ]
  },
  {
   "cell_type": "code",
   "execution_count": 20,
   "id": "b61e4e9e",
   "metadata": {},
   "outputs": [
    {
     "data": {
      "text/html": [
       "<div>\n",
       "<style scoped>\n",
       "    .dataframe tbody tr th:only-of-type {\n",
       "        vertical-align: middle;\n",
       "    }\n",
       "\n",
       "    .dataframe tbody tr th {\n",
       "        vertical-align: top;\n",
       "    }\n",
       "\n",
       "    .dataframe thead th {\n",
       "        text-align: right;\n",
       "    }\n",
       "</style>\n",
       "<table border=\"1\" class=\"dataframe\">\n",
       "  <thead>\n",
       "    <tr style=\"text-align: right;\">\n",
       "      <th></th>\n",
       "      <th>Nama Produk di toko apple flagship (shopee)</th>\n",
       "      <th>Harga Produk</th>\n",
       "    </tr>\n",
       "  </thead>\n",
       "  <tbody>\n",
       "    <tr>\n",
       "      <th>0</th>\n",
       "      <td>Apple iPhone 11 64GB, Black</td>\n",
       "      <td>Rp7.999.000</td>\n",
       "    </tr>\n",
       "    <tr>\n",
       "      <th>1</th>\n",
       "      <td>Apple iPhone 11 128GB, White</td>\n",
       "      <td>Rp9.249.000</td>\n",
       "    </tr>\n",
       "    <tr>\n",
       "      <th>2</th>\n",
       "      <td>Apple iPhone 14 Pro Max 256GB, Deep Purple</td>\n",
       "      <td>Rp22.999.000</td>\n",
       "    </tr>\n",
       "    <tr>\n",
       "      <th>3</th>\n",
       "      <td>Apple iPhone 13 128GB, Pink</td>\n",
       "      <td>Rp15.199.000</td>\n",
       "    </tr>\n",
       "    <tr>\n",
       "      <th>4</th>\n",
       "      <td>Apple iPhone 14 Pro Max 1TB, Deep Purple</td>\n",
       "      <td>Rp30.999.000</td>\n",
       "    </tr>\n",
       "    <tr>\n",
       "      <th>...</th>\n",
       "      <td>...</td>\n",
       "      <td>...</td>\n",
       "    </tr>\n",
       "    <tr>\n",
       "      <th>247</th>\n",
       "      <td>Apple 20W USB-C Power Adapter</td>\n",
       "      <td>Rp449.000</td>\n",
       "    </tr>\n",
       "    <tr>\n",
       "      <th>248</th>\n",
       "      <td>Apple iPhone 14 Pro Max 512GB, Space Black</td>\n",
       "      <td>Rp26.999.000</td>\n",
       "    </tr>\n",
       "    <tr>\n",
       "      <th>249</th>\n",
       "      <td>Apple iPhone 14 Plus 128GB, Blue</td>\n",
       "      <td>Rp17.999.000</td>\n",
       "    </tr>\n",
       "    <tr>\n",
       "      <th>250</th>\n",
       "      <td>Apple iPhone 14 Pro Max 256GB, Silver</td>\n",
       "      <td>Rp22.999.000</td>\n",
       "    </tr>\n",
       "    <tr>\n",
       "      <th>251</th>\n",
       "      <td>Apple iPhone 14 Pro Max 128GB, Gold</td>\n",
       "      <td>Rp21.999.000</td>\n",
       "    </tr>\n",
       "  </tbody>\n",
       "</table>\n",
       "<p>252 rows × 2 columns</p>\n",
       "</div>"
      ],
      "text/plain": [
       "    Nama Produk di toko apple flagship (shopee)  Harga Produk\n",
       "0                   Apple iPhone 11 64GB, Black   Rp7.999.000\n",
       "1                  Apple iPhone 11 128GB, White   Rp9.249.000\n",
       "2    Apple iPhone 14 Pro Max 256GB, Deep Purple  Rp22.999.000\n",
       "3                   Apple iPhone 13 128GB, Pink  Rp15.199.000\n",
       "4      Apple iPhone 14 Pro Max 1TB, Deep Purple  Rp30.999.000\n",
       "..                                          ...           ...\n",
       "247               Apple 20W USB-C Power Adapter     Rp449.000\n",
       "248  Apple iPhone 14 Pro Max 512GB, Space Black  Rp26.999.000\n",
       "249            Apple iPhone 14 Plus 128GB, Blue  Rp17.999.000\n",
       "250       Apple iPhone 14 Pro Max 256GB, Silver  Rp22.999.000\n",
       "251         Apple iPhone 14 Pro Max 128GB, Gold  Rp21.999.000\n",
       "\n",
       "[252 rows x 2 columns]"
      ]
     },
     "execution_count": 20,
     "metadata": {},
     "output_type": "execute_result"
    }
   ],
   "source": [
    "df1"
   ]
  },
  {
   "cell_type": "code",
   "execution_count": 22,
   "id": "69918547",
   "metadata": {},
   "outputs": [
    {
     "data": {
      "text/html": [
       "<div>\n",
       "<style scoped>\n",
       "    .dataframe tbody tr th:only-of-type {\n",
       "        vertical-align: middle;\n",
       "    }\n",
       "\n",
       "    .dataframe tbody tr th {\n",
       "        vertical-align: top;\n",
       "    }\n",
       "\n",
       "    .dataframe thead th {\n",
       "        text-align: right;\n",
       "    }\n",
       "</style>\n",
       "<table border=\"1\" class=\"dataframe\">\n",
       "  <thead>\n",
       "    <tr style=\"text-align: right;\">\n",
       "      <th></th>\n",
       "      <th>Nama Produk di toko</th>\n",
       "      <th>Harga Produk di toko</th>\n",
       "    </tr>\n",
       "  </thead>\n",
       "  <tbody>\n",
       "    <tr>\n",
       "      <th>0</th>\n",
       "      <td>Apple iPhone 11 64GB, Black</td>\n",
       "      <td>Rp7.999.000</td>\n",
       "    </tr>\n",
       "    <tr>\n",
       "      <th>1</th>\n",
       "      <td>Apple iPhone 11 128GB, White</td>\n",
       "      <td>Rp9.249.000</td>\n",
       "    </tr>\n",
       "    <tr>\n",
       "      <th>2</th>\n",
       "      <td>Apple iPhone 14 Pro Max 256GB, Deep Purple</td>\n",
       "      <td>Rp22.999.000</td>\n",
       "    </tr>\n",
       "    <tr>\n",
       "      <th>3</th>\n",
       "      <td>Apple iPhone 13 128GB, Pink</td>\n",
       "      <td>Rp15.199.000</td>\n",
       "    </tr>\n",
       "    <tr>\n",
       "      <th>4</th>\n",
       "      <td>Apple iPhone 14 Pro Max 1TB, Deep Purple</td>\n",
       "      <td>Rp30.999.000</td>\n",
       "    </tr>\n",
       "    <tr>\n",
       "      <th>...</th>\n",
       "      <td>...</td>\n",
       "      <td>...</td>\n",
       "    </tr>\n",
       "    <tr>\n",
       "      <th>139</th>\n",
       "      <td>Apple iPhone 14 Pro 256GB, Space Black</td>\n",
       "      <td>Rp20.999.000</td>\n",
       "    </tr>\n",
       "    <tr>\n",
       "      <th>140</th>\n",
       "      <td>Apple iPhone 14 Pro Max 128GB, Silver</td>\n",
       "      <td>Rp21.999.000</td>\n",
       "    </tr>\n",
       "    <tr>\n",
       "      <th>141</th>\n",
       "      <td>Apple iPhone 14 Pro Max 256GB, Gold</td>\n",
       "      <td>Rp22.999.000</td>\n",
       "    </tr>\n",
       "    <tr>\n",
       "      <th>142</th>\n",
       "      <td>Apple iPhone 14 Pro Max 128GB, Space Black</td>\n",
       "      <td>Rp21.999.000</td>\n",
       "    </tr>\n",
       "    <tr>\n",
       "      <th>143</th>\n",
       "      <td>Apple Pencil (Gen ke 2)</td>\n",
       "      <td>Rp1.799.000</td>\n",
       "    </tr>\n",
       "  </tbody>\n",
       "</table>\n",
       "<p>144 rows × 2 columns</p>\n",
       "</div>"
      ],
      "text/plain": [
       "                           Nama Produk di toko  Harga Produk di toko\n",
       "0                   Apple iPhone 11 64GB, Black          Rp7.999.000\n",
       "1                  Apple iPhone 11 128GB, White          Rp9.249.000\n",
       "2    Apple iPhone 14 Pro Max 256GB, Deep Purple         Rp22.999.000\n",
       "3                   Apple iPhone 13 128GB, Pink         Rp15.199.000\n",
       "4      Apple iPhone 14 Pro Max 1TB, Deep Purple         Rp30.999.000\n",
       "..                                          ...                  ...\n",
       "139      Apple iPhone 14 Pro 256GB, Space Black         Rp20.999.000\n",
       "140       Apple iPhone 14 Pro Max 128GB, Silver         Rp21.999.000\n",
       "141         Apple iPhone 14 Pro Max 256GB, Gold         Rp22.999.000\n",
       "142  Apple iPhone 14 Pro Max 128GB, Space Black         Rp21.999.000\n",
       "143                     Apple Pencil (Gen ke 2)          Rp1.799.000\n",
       "\n",
       "[144 rows x 2 columns]"
      ]
     },
     "execution_count": 22,
     "metadata": {},
     "output_type": "execute_result"
    }
   ],
   "source": [
    "df2"
   ]
  },
  {
   "cell_type": "code",
   "execution_count": null,
   "id": "9de4422a",
   "metadata": {},
   "outputs": [],
   "source": []
  }
 ],
 "metadata": {
  "kernelspec": {
   "display_name": "Python 3 (ipykernel)",
   "language": "python",
   "name": "python3"
  },
  "language_info": {
   "codemirror_mode": {
    "name": "ipython",
    "version": 3
   },
   "file_extension": ".py",
   "mimetype": "text/x-python",
   "name": "python",
   "nbconvert_exporter": "python",
   "pygments_lexer": "ipython3",
   "version": "3.9.12"
  }
 },
 "nbformat": 4,
 "nbformat_minor": 5
}
